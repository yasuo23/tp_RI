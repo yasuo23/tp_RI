{
 "cells": [
  {
   "cell_type": "code",
   "execution_count": null,
   "metadata": {},
   "outputs": [],
   "source": [
    "import nltk\n",
    "\n",
    "def find_word_positions(text, word,tokenizer):\n",
    "#     # Tokenize the text using the same tokenizer to ensure consistency\n",
    "    # Initialize the tokenizer and stemmer\n",
    "    stemmer = nltk.PorterStemmer()\n",
    "\n",
    "    # Tokenize the text\n",
    "    tokens = tokenizer.tokenize(text)\n",
    "    stemmed_tokens = [stemmer.stem(token) for token in tokens]\n",
    "    stemmed_word = stemmer.stem(word)\n",
    "\n",
    "    positions = []\n",
    "    start = 0\n",
    "\n",
    "    # Loop through original tokens and check positions based on stemmed match\n",
    "    for i, token in enumerate(tokens):\n",
    "        if stemmed_tokens[i] == stemmed_word:  # Compare stemmed tokens\n",
    "            pos = text.find(token, start)  # Find position of the original token\n",
    "            if pos != -1:\n",
    "                positions.append(pos)\n",
    "                start = pos + len(token)\n",
    "\n",
    "    return positions\n",
    "ExpReg = nltk.RegexpTokenizer('(?:[A-Za-z]\\.)+|[A-Za-z]+[\\-@]\\d+(?:\\.\\d+)?|\\d+[A-Za-z]+|\\d+(?:[\\.\\,\\-]\\d+)?%?|\\w+(?:[\\-/]\\w+)*')\n",
    "# Example usage\n",
    "text = \"The quick brown fox jumps over the lazy dog. The fox was very quick.\"\n",
    "word = \"quick\"\n",
    "positions = find_word_positions(text, word,ExpReg )\n",
    "print(\"Positions of '{}':\".format(word), positions)\n"
   ]
  }
 ],
 "metadata": {
  "kernelspec": {
   "display_name": "Python 3",
   "language": "python",
   "name": "python3"
  },
  "language_info": {
   "codemirror_mode": {
    "name": "ipython",
    "version": 3
   },
   "file_extension": ".py",
   "mimetype": "text/x-python",
   "name": "python",
   "nbconvert_exporter": "python",
   "pygments_lexer": "ipython3",
   "version": "3.10.0"
  }
 },
 "nbformat": 4,
 "nbformat_minor": 2
}
